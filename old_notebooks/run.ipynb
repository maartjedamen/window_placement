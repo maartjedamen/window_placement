{
 "cells": [
  {
   "cell_type": "code",
   "execution_count": 1,
   "metadata": {},
   "outputs": [
    {
     "name": "stdout",
     "output_type": "stream",
     "text": [
      "0363100012062180_5.220579\n",
      "window_placement/data/facade_data/png/0363100012062180_5.220579.png\n",
      "0363100012062199_4.616211\n",
      "window_placement/data/facade_data/png/0363100012062199_4.616211.png\n",
      "0363100012062363_5.239833\n",
      "window_placement/data/facade_data/png/0363100012062363_5.239833.png\n",
      "0363100012062366_5.126911\n",
      "window_placement/data/facade_data/png/0363100012062366_5.126911.png\n",
      "0363100012062441_5.056991\n",
      "window_placement/data/facade_data/png/0363100012062441_5.056991.png\n"
     ]
    }
   ],
   "source": [
    "import WWR \n",
    "import cv2\n",
    "dir = 'window_placement/data/Eijgenstein/Amsterdam_facade_dataset/train_mask'\n",
    "# window_placement\\data\\Eijgenstein\\Amsterdam_facade_dataset\\train_mask\n",
    "list_files = WWR.read_files(dir)\n",
    "\n",
    "for file in list_files[:5]: \n",
    "    dir = (\"window_placement/data/Eijgenstein/Amsterdam_facade_dataset/train_mask/\" + file)\n",
    "    img = cv2.imread(dir)\n",
    "    # cv2.imshow(\"Display\", img)\n",
    "    # k = cv2.waitKey(0) # Wait for a keystroke in the window\n",
    "    \n",
    "    bound_rects, img_shape = WWR.retrieve_window_bounds(img)\n",
    "    max_building_height = WWR.retrieve_max_building_height(img)\n",
    "\n",
    "    window_clusters, duplicate_indices = WWR.find_window_clusters(bound_rects)\n",
    "    new_file = file.strip(\".png\")\n",
    "    print(new_file)\n",
    "    cluster_dir = (\"window_placement/data/facade_data/csv/\" + new_file + \".csv\")\n",
    "    cluster_df = WWR.get_cluster_info(bound_rects, duplicate_indices, img_shape, max_building_height, window_clusters, cluster_dir)\n",
    "    write_dir = (\"window_placement/data/facade_data/png/\" + file)\n",
    "\n",
    "    print(write_dir)\n",
    "    WWR.visualise_floors(img, cluster_df, write_dir)\n",
    "\n",
    "    # cv2.imwrite(write_dir, img)\n",
    "\n",
    "\n",
    "\n",
    "\n",
    "\n",
    "\n",
    "    "
   ]
  }
 ],
 "metadata": {
  "kernelspec": {
   "display_name": "Python 3",
   "language": "python",
   "name": "python3"
  },
  "language_info": {
   "codemirror_mode": {
    "name": "ipython",
    "version": 3
   },
   "file_extension": ".py",
   "mimetype": "text/x-python",
   "name": "python",
   "nbconvert_exporter": "python",
   "pygments_lexer": "ipython3",
   "version": "3.9.13"
  }
 },
 "nbformat": 4,
 "nbformat_minor": 2
}
