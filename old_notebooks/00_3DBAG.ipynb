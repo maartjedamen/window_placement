{
 "cells": [
  {
   "source": [
    "# 00_3DBAG\n",
    "In this notebook the needed information for downloading specific tiles is generated, and saved as a CSV-file. The information concerns the tile number and the bounding coordinates (xmin, xmax, ymin, ymax). This information will be useful in the 02-notebook for downloading the context of wished-for location. "
   ],
   "cell_type": "markdown",
   "metadata": {}
  },
  {
   "source": [
    "## 0. Initialization\n",
    "Importing all necessary libraries and specifying the inputs"
   ],
   "cell_type": "markdown",
   "metadata": {}
  },
  {
   "cell_type": "code",
   "execution_count": 1,
   "metadata": {},
   "outputs": [],
   "source": [
    "from owslib.wfs import WebFeatureService\n",
    "import json\n",
    "import pandas as pd\n",
    "import zipfile\n",
    "import digital_twinning as dt"
   ]
  },
  {
   "source": [
    "## 1. Retrieve the full 3d BAG json-file"
   ],
   "cell_type": "markdown",
   "metadata": {}
  },
  {
   "cell_type": "code",
   "execution_count": 2,
   "metadata": {},
   "outputs": [],
   "source": [
    "# retrieve the BAG3D tile grid\n",
    "BAG3D = WebFeatureService(url='https://data.3dbag.nl/api/BAG3D_v2/wfs?request=getcapabilities', version= '1.1.0')\n",
    "tile = BAG3D.getfeature(typename='BAG3D_v2:bag_tiles_3k')\n",
    "\n",
    "#save the tile grid as a GML\n",
    "gml_path = '../data/3DBAG/tiles.gml'\n",
    "with open(str(gml_path), 'wb') as f:\n",
    "    f.write(tile.read())"
   ]
  },
  {
   "cell_type": "code",
   "execution_count": 3,
   "metadata": {},
   "outputs": [],
   "source": [
    "# convert the GML file to a dictionary \n",
    "tiles_dict = dt.etree_to_dict(gml_path)"
   ]
  },
  {
   "cell_type": "code",
   "execution_count": 4,
   "metadata": {},
   "outputs": [],
   "source": [
    "#save dict to a JSON file\n",
    "pretty_json_path = \"../data/3DBAG/tiles_dict_pretty.json\"\n",
    "with open(pretty_json_path, \"w\") as f:\n",
    "    f.write(json.dumps(tiles_dict, indent=4, sort_keys=True))"
   ]
  },
  {
   "source": [
    "## 2. read the json-file and retrieve the info of all tiles\n",
    "this includes the index and coordinates of the boundary of each tile. This is then saved to a csv for further usage. "
   ],
   "cell_type": "markdown",
   "metadata": {}
  },
  {
   "cell_type": "code",
   "execution_count": 5,
   "metadata": {
    "tags": []
   },
   "outputs": [],
   "source": [
    "#translate json file to readable tile dictionary\n",
    "new_tiles_dict = dt.read_json_dict(pretty_json_path)\n",
    "\n",
    "# save to csv\n",
    "df = pd.DataFrame(new_tiles_dict)\n",
    "tiles_csv_path = '../data/3DBAG/tiles_dict_clean.csv'\n",
    "df.to_csv(tiles_csv_path, index=False, header=False)"
   ]
  },
  {
   "cell_type": "code",
   "execution_count": null,
   "metadata": {},
   "outputs": [],
   "source": []
  }
 ],
 "metadata": {
  "kernelspec": {
   "name": "python384jvsc74a57bd07bab519eaee00f5a36818a1fec79a4512342b76c2b97edf1e769d1f51660a6b2",
   "display_name": "Python 3.8.4 64-bit ('sc_workshops': conda)"
  },
  "language_info": {
   "codemirror_mode": {
    "name": "ipython",
    "version": 3
   },
   "file_extension": ".py",
   "mimetype": "text/x-python",
   "name": "python",
   "nbconvert_exporter": "python",
   "pygments_lexer": "ipython3",
   "version": "3.8.4"
  }
 },
 "nbformat": 4,
 "nbformat_minor": 2
}