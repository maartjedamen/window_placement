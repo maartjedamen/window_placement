{
 "cells": [
  {
   "cell_type": "markdown",
   "metadata": {},
   "source": [
    "#### import libraries "
   ]
  },
  {
   "cell_type": "code",
   "execution_count": 50,
   "metadata": {},
   "outputs": [],
   "source": [
    "import os\n",
    "import cv2\n",
    "import pandas as pd\n",
    "import geopandas as gpd\n",
    "import numpy as np\n",
    "from collections import Counter"
   ]
  },
  {
   "cell_type": "markdown",
   "metadata": {},
   "source": [
    "#### file folder ID reading"
   ]
  },
  {
   "cell_type": "code",
   "execution_count": 51,
   "metadata": {},
   "outputs": [],
   "source": [
    "list_files = os.listdir('./data/Dang and Eijgenstein/Amsterdam_facade_dataset/train_mask')\n",
    "IDs =[]\n",
    "for file in list_files: \n",
    "    ID_segments = file.split(\"_\")\n",
    "    # Photo_dist = \n",
    "    # print(Photo_dist)\n",
    "    IDs.append({\n",
    "        \"identificatie\": ID_segments[0],\n",
    "        \"photo_dist\": ID_segments[1].strip(\".png\")\n",
    "    })\n",
    "file_df = pd.DataFrame(IDs)"
   ]
  },
  {
   "cell_type": "code",
   "execution_count": 52,
   "metadata": {},
   "outputs": [],
   "source": [
    "# save to csv\n",
    "IDs_csv_path = './data/list_IDs.csv'\n",
    "file_df.to_csv(IDs_csv_path, index=False, header=True)"
   ]
  },
  {
   "cell_type": "markdown",
   "metadata": {},
   "source": [
    "#### filter BAG by facade mask availability for visualisation in QGIS"
   ]
  },
  {
   "cell_type": "code",
   "execution_count": 53,
   "metadata": {},
   "outputs": [],
   "source": [
    "BAG_gdf = gpd.read_file('./data/baglod12citycentre.geojson') # geojson file\n",
    "BAG_gdf[\"identificatie\"] = BAG_gdf[\"identificatie\"].str[-15:].astype(str)\n",
    "\n",
    "IDs_pdf = pd.read_csv('./data/list_IDs.csv') # CSV file\n",
    "IDs_pdf[\"identificatie\"] = IDs_pdf[\"identificatie\"].astype(str)\n",
    "joined_gdf = BAG_gdf.merge(IDs_pdf, on=\"identificatie\")\n",
    "\n",
    "# Save to geojson\n",
    "joined_gdf.to_file(\"./data/joined_gdf.geojson\", driver=\"GeoJSON\")"
   ]
  },
  {
   "cell_type": "markdown",
   "metadata": {},
   "source": [
    "#### read image(s)"
   ]
  },
  {
   "cell_type": "code",
   "execution_count": 66,
   "metadata": {},
   "outputs": [],
   "source": [
    "img = cv2.imread(\"./data/Dang and Eijgenstein/Amsterdam_facade_dataset/train_mask/0363100012179985_4.642188.png\")\n",
    "cv2.imshow(\"Display\", img)\n",
    "k = cv2.waitKey(0) # Wait for a keystroke in the window"
   ]
  },
  {
   "cell_type": "markdown",
   "metadata": {},
   "source": [
    "#### read image files, loop"
   ]
  },
  {
   "cell_type": "code",
   "execution_count": 55,
   "metadata": {},
   "outputs": [],
   "source": [
    "# data_dict = []\n",
    "# for file in list_files: \n",
    "    # img = cv2.imread(file)\n",
    "    # write the rest of the code to functions\n",
    "    # execute functions \n",
    "    # write cluster info dict, data tree\n",
    "    # append dict with ID (and photod_dist) to json format\n",
    "# save data_dict to JSON "
   ]
  },
  {
   "cell_type": "markdown",
   "metadata": {},
   "source": [
    "### Extract only the windows from the mask"
   ]
  },
  {
   "cell_type": "code",
   "execution_count": 56,
   "metadata": {},
   "outputs": [
    {
     "name": "stdout",
     "output_type": "stream",
     "text": [
      "(900, 190, 3)\n"
     ]
    }
   ],
   "source": [
    "image_rgb = cv2.cvtColor(img, cv2.COLOR_BGR2RGB)\n",
    "\n",
    "# Convert the image to HSV for better color segmentation\n",
    "hsv = cv2.cvtColor(image_rgb, cv2.COLOR_RGB2HSV)\n",
    "\n",
    "# save CSV to read the color values of the image \n",
    "hsv_2d = hsv.reshape((-1,3))\n",
    "df = pd.DataFrame(hsv_2d)\n",
    "tiles_csv_path = './data/junk/hsv.csv'\n",
    "df.to_csv(tiles_csv_path, index=False, header=False)\n",
    "\n",
    "'not integrated in the code, just read from the file'\n",
    "\n",
    "# retrieved color values\n",
    "sky_val = np.array([0,0,255])\n",
    "cl_fac_val = np.array([60,185,160])\n",
    "window_fac_val = np.array([102,211,180])\n",
    "door_fac_val = np.array([14,241,255])\n",
    "\n",
    "mask = cv2.inRange(hsv, window_fac_val, window_fac_val)\n",
    "\n",
    "#save image\n",
    "cv2.imwrite(\"data/cv2_window_mask.png\", mask)\n",
    "img_shape= img.shape\n",
    "print(img_shape)\n",
    "\n",
    "# show image \n",
    "# cv2.imshow(\"img\", mask)\n",
    "# cv2.waitKey(0)\n",
    "# cv2.destroyAllWindows()"
   ]
  },
  {
   "cell_type": "markdown",
   "metadata": {},
   "source": [
    "### simplify windows to xy minimum bounding rectangles "
   ]
  },
  {
   "cell_type": "code",
   "execution_count": 57,
   "metadata": {},
   "outputs": [
    {
     "name": "stdout",
     "output_type": "stream",
     "text": [
      "[(18, 858, 39, 33), (76, 857, 37, 33), (133, 766, 35, 24), (73, 766, 44, 70), (18, 766, 43, 71), (129, 674, 43, 69), (72, 674, 43, 69), (16, 674, 46, 68), (15, 584, 44, 65), (126, 581, 42, 67), (70, 581, 42, 67)]\n"
     ]
    }
   ],
   "source": [
    "contours, _ = cv2.findContours(mask, cv2.RETR_EXTERNAL, cv2.CHAIN_APPROX_SIMPLE)\n",
    "\n",
    "# Approximate contours to polygons + get bounding rects\n",
    "contours_poly = [None]*len(contours)\n",
    "boundRect = [None]*len(contours)\n",
    "\n",
    "for i, c in enumerate(contours):\n",
    "    contours_poly[i] = cv2.approxPolyDP(c, 3, True)\n",
    "    boundRect[i] = cv2.boundingRect(contours_poly[i])\n",
    "print(boundRect)                                #  in order of X, Y,(top-left coordinate of the rectangle) and width, height \n",
    "\n",
    "\n",
    "drawing = np.zeros((mask.shape[0], mask.shape[1], 3), dtype=np.uint8)\n",
    "# Draw polygonal contour + bonding rects + circles\n",
    "for i in range(len(contours)):\n",
    "    color = (0,0,255)\n",
    "    cv2.rectangle(drawing, (int(boundRect[i][0]), int(boundRect[i][1])), \n",
    "    (int(boundRect[i][0]+boundRect[i][2]), int(boundRect[i][1]+boundRect[i][3])), color, 2)\n",
    "# cv2.imwrite(\"data/cv2_window_contours.png\", drawing)\n",
    "cv2.imshow('Contours', drawing)\n",
    "k = cv2.waitKey(0) # Wait for a keystroke in the window"
   ]
  },
  {
   "cell_type": "markdown",
   "metadata": {},
   "source": [
    "### find contours of the building (max building height)"
   ]
  },
  {
   "cell_type": "code",
   "execution_count": 85,
   "metadata": {},
   "outputs": [],
   "source": [
    "wall_mask = mask = cv2.inRange(hsv, sky_val, sky_val)\n",
    "\n",
    "contours, _ = cv2.findContours(wall_mask, cv2.RETR_EXTERNAL, cv2.CHAIN_APPROX_SIMPLE)\n",
    "# Approximate contours to polygons + get bounding rects\n",
    "\n",
    "for i in contours:\n",
    "    contours_poly = cv2.approxPolyDP(i, 3, True)\n",
    "    boundRect = cv2.boundingRect(contours_poly)\n",
    "max_building_height = boundRect[1]                             #  in order of X, Y,(top-left coordinate of the rectangle) and width, height\n",
    "\n",
    "# drawing = np.zeros((mask.shape[0], mask.shape[1], 3), dtype=np.uint8)\n",
    "# color = (0,0,255)\n",
    "# cv2.rectangle(drawing, (int(boundRect[0]), int(boundRect[1])), \n",
    "# (int(boundRect[0]+boundRect[2]), int(boundRect[1]+boundRect[3])), color, 2)\n",
    "# cv2.imwrite(\"data/cv2_window_contours.png\", drawing)\n",
    "# cv2.imshow('Contours', drawing)\n",
    "# k = cv2.waitKey(0) # Wait for a keystroke in the window"
   ]
  },
  {
   "cell_type": "markdown",
   "metadata": {},
   "source": [
    "### retrieve additional window information"
   ]
  },
  {
   "cell_type": "code",
   "execution_count": 59,
   "metadata": {},
   "outputs": [
    {
     "name": "stdout",
     "output_type": "stream",
     "text": [
      "[[858, 891], [857, 890], [766, 790], [766, 836], [766, 837], [674, 743], [674, 743], [674, 742], [584, 649], [581, 648], [581, 648]]\n",
      "[1287, 1221, 840, 3080, 3053, 2967, 2967, 3128, 2860, 2814, 2814]\n",
      "[33, 33, 24, 70, 71, 69, 69, 68, 65, 67, 67]\n"
     ]
    }
   ],
   "source": [
    "#list heights of the upper and lower corner of each window\n",
    "y_bounds = []\n",
    "window_area = []\n",
    "window_height = []\n",
    "for border in boundRect:\n",
    "    y_bound = []\n",
    "    y_bound.append(border[1])\n",
    "\n",
    "    upper_corner = border[1] + border[3]\n",
    "    y_bound.append(upper_corner)\n",
    "    y_bounds.append(y_bound)\n",
    "    window_area.append(border[2]*border[3])\n",
    "    window_height.append(border[3])\n",
    "print(y_bounds)\n",
    "print(window_area)\n",
    "print(window_height)"
   ]
  },
  {
   "cell_type": "code",
   "execution_count": 60,
   "metadata": {},
   "outputs": [],
   "source": [
    "# #list heights of the upper and lower corner of each window, in meters \n",
    "# y_bounds = []\n",
    "# window_area = []\n",
    "# window_height = []\n",
    "# for border in boundRect:\n",
    "#     y_bound = []\n",
    "#     y_bound.append(border[1])\n",
    "#     upper_corner = border[1] + border[3]\n",
    "#     y_bound.append(upper_corner)\n",
    "#     y_bounds.append(y_bound)\n",
    "#     window_area.append((border[2]*border[3])/27**2)\n",
    "#     window_height.append(border[3]/27)\n",
    "# print(y_bounds)\n",
    "# print(window_area)\n",
    "# print(window_height)\n"
   ]
  },
  {
   "cell_type": "markdown",
   "metadata": {},
   "source": [
    "### define window clusters"
   ]
  },
  {
   "cell_type": "code",
   "execution_count": 61,
   "metadata": {},
   "outputs": [
    {
     "name": "stdout",
     "output_type": "stream",
     "text": [
      "[[857, 891], [857, 891], [766, 837], [766, 837], [766, 837], [674, 743], [674, 743], [674, 743], [581, 649], [581, 649], [581, 649]]\n"
     ]
    }
   ],
   "source": [
    "def find_window_clusters(window_y_bounds): \n",
    "    window_clusters = []\n",
    "    for index, window_1 in enumerate(window_y_bounds):\n",
    "        new_window = [\n",
    "            min(window_1[0], min(window_2[0] for window_2 in y_bounds if window_2[0] <= window_1[1] and window_1[0] <= window_2[1])),\n",
    "            max(window_1[1], max(window_2[1] for window_2 in y_bounds if window_2[0] <= window_1[1] and window_1[0] <= window_2[1]))\n",
    "        ]\n",
    "        window_clusters.append(new_window)\n",
    "    return window_clusters\n",
    "\n",
    "window_clusters = find_window_clusters(y_bounds)\n",
    "print(window_clusters)"
   ]
  },
  {
   "cell_type": "markdown",
   "metadata": {},
   "source": [
    "### calculate relevant window- & floor information "
   ]
  },
  {
   "cell_type": "code",
   "execution_count": 62,
   "metadata": {},
   "outputs": [
    {
     "name": "stdout",
     "output_type": "stream",
     "text": [
      "859.0\n",
      "190\n",
      "842.5555555555555\n",
      "190\n",
      "836.8888888888888\n",
      "190\n",
      "836.8888888888888\n",
      "190\n",
      "   window_count     indices    boundary  avg_height  floor_level  \\\n",
      "0             2      [0, 1]  [857, 891]   33.000000   859.000000   \n",
      "1             3   [2, 3, 4]  [766, 837]   55.000000   842.555556   \n",
      "2             3   [5, 6, 7]  [674, 743]   68.666667   836.888889   \n",
      "3             3  [8, 9, 10]  [581, 649]   66.333333   836.888889   \n",
      "\n",
      "   floor_height  avg_sill_height  window_area_sum      wall_area       WWR  \n",
      "0     81.000000       890.500000             2508  163210.000000  0.015367  \n",
      "1     41.000000       829.000000             6973  160085.555556  0.043558  \n",
      "2     57.444444       742.833333             9062  159008.888889  0.056991  \n",
      "3     63.111111       648.166667             8488  159008.888889  0.056991  \n"
     ]
    }
   ],
   "source": [
    "def get_cluster_info(values, boundaries, heights, img_shape):\n",
    "    counts = Counter(tuple(sublist) for sublist in boundaries)\n",
    "    duplicate_indices = {k: [i for i, sublist in enumerate(boundaries) if tuple(sublist) == k] \n",
    "                         for k, _ in counts.items()}\n",
    "    \n",
    "    # cluster_info = []\n",
    "    # previous_floor_level = None  # Initialize to maximum pixel height\n",
    "    # floor_height = []\n",
    "    # # for _, original_boundary in duplicate_indices.items():\n",
    "    #     # ... (rest of your existing code) ...\n",
    "\n",
    "    cluster_info = []\n",
    "    previous_floor_level = img_shape[0]  # Initialize to maximum pixel height\n",
    "    next_floor_level = None  # Initialize for the first iteration\n",
    "\n",
    "    for i, (_, original_boundary) in enumerate(duplicate_indices.items()):\n",
    "        # ... (calculations for area_sum, avg_height, etc.) ...\n",
    "        area_sum = sum(values[i] for i in original_boundary)\n",
    "        avg_height = sum(heights[i] for i in original_boundary) / len(original_boundary)\n",
    "        middle_boundary = (boundaries[original_boundary[0]][0] + boundaries[original_boundary[0]][1]) / 2\n",
    "        avg_sill_height = middle_boundary + avg_height / 2\n",
    "        floor_level = previous_floor_level  # Start with previous floor level\n",
    "\n",
    "\n",
    "        if previous_floor_level == None:  # Ground floor\n",
    "            floor_height = img_shape[0]\n",
    "        else:  # Other floors\n",
    "            if next_floor_level is not None:\n",
    "                floor_height = previous_floor_level - next_floor_level \n",
    "                # print(\"hit\")\n",
    "                # print(floor_height)\n",
    "            else:  # Last floor, assume a standard height (adjust as needed)\n",
    "                floor_height = 3 * 27  # Example: 3 meters (assuming 27 pixels per meter)\n",
    "\n",
    "        if i < len(duplicate_indices) - 1:  # Check if there's a next iteration\n",
    "            next_cluster = list(duplicate_indices.items())[i + 1][1]\n",
    "            next_avg_height = sum(heights[j] for j in next_cluster) / len(next_cluster)\n",
    "            next_middle_boundary = (boundaries[next_cluster[0]][0] + boundaries[next_cluster[0]][1]) / 2\n",
    "            next_avg_sill_height = next_middle_boundary + next_avg_height / 2\n",
    "            # print(next_avg_sill_height)\n",
    "            # print(floor_level)\n",
    "            next_floor_level = floor_level - (2/3)*(avg_sill_height - next_avg_sill_height)\n",
    "            wall_area = next_floor_level * img_shape[1]  \n",
    "            WWR = area_sum / wall_area\n",
    "        \n",
    "        print(next_floor_level)\n",
    "        print(img_shape[1])\n",
    "\n",
    "    # # previous_floor_level = None\n",
    "    # for _, original_boundary in duplicate_indices.items():\n",
    "    #     area_sum = sum(values[i] for i in original_boundary)\n",
    "    #     avg_height = sum(heights[i] for i in original_boundary) / len(original_boundary)\n",
    "    #     middle_boundary = (boundaries[original_boundary[0]][0] + boundaries[original_boundary[0]][1]) / 2\n",
    "    #     avg_sill_height = middle_boundary + avg_height / 2\n",
    "    #     # floor_level = img_shape[0] - (avg_sill_height + 27) #27px is an assumption of a consistent .9m sill height\n",
    "    #     if previous_floor_level == None:  # Ground floor\n",
    "    #         floor_level =img_shape[0]  \n",
    "    #         floor_height = floor_level  \n",
    "\n",
    "    #     else:\n",
    "    #         floor_level = int(previous_floor_level - (2/3)*(previous_floor_level - avg_sill_height))\n",
    "    #         floor_height = previous_floor_level- floor_level\n",
    "    #     # if previous_floor_level is not None:\n",
    "    #         # floor_height = floor_level - previous_floor_level\n",
    "    #     # else:\n",
    "    #     wall_area = floor_height * img_shape[1]\n",
    "\n",
    "    #     WWR = area_sum/wall_area\n",
    "\n",
    "        cluster_info.append({\n",
    "            \"window_count\": len(original_boundary),\n",
    "            \"indices\": original_boundary,\n",
    "            \"boundary\": boundaries[original_boundary[0]],\n",
    "            \"avg_height\": avg_height,\n",
    "            \"floor_level\": next_floor_level,\n",
    "            \"floor_height\": floor_height,\n",
    "            \"avg_sill_height\": avg_sill_height,\n",
    "            \"window_area_sum\": area_sum,\n",
    "            \"wall_area\": wall_area,\n",
    "            \"WWR\": WWR\n",
    "        })\n",
    "        \n",
    "        cluster_df = pd.DataFrame(cluster_info)\n",
    "\n",
    "        previous_floor_level = floor_level  # Update previous_floor_level HERE\n",
    "\n",
    "    return cluster_df\n",
    "cluster_info = get_cluster_info(window_area, window_clusters, window_height, img_shape)\n",
    "\n",
    "# for cluster in cluster_info: \n",
    "    # print(cluster)\n",
    "print(cluster_info)\n",
    "\n"
   ]
  },
  {
   "cell_type": "code",
   "execution_count": 92,
   "metadata": {},
   "outputs": [
    {
     "name": "stdout",
     "output_type": "stream",
     "text": [
      "   window_count     indices    boundary  avg_win_height  floor_level  \\\n",
      "0             2      [0, 1]  [857, 891]       33.000000   900.000000   \n",
      "1             3   [2, 3, 4]  [766, 837]       55.000000   848.000000   \n",
      "2             3   [5, 6, 7]  [674, 743]       68.666667   763.611111   \n",
      "3             3  [8, 9, 10]  [581, 649]       66.333333   665.500000   \n",
      "\n",
      "   roof_level  floor_height  avg_sill_height  window_area_sum     wall_area  \\\n",
      "0  848.000000     52.000000       890.500000             2508   9880.000000   \n",
      "1  763.611111     84.388889       829.000000             6973  16033.888889   \n",
      "2  665.500000     98.111111       742.833333             9062  18641.111111   \n",
      "3  466.000000    199.500000       648.166667             8488  37905.000000   \n",
      "\n",
      "        WWR  \n",
      "0  0.253846  \n",
      "1  0.434891  \n",
      "2  0.486130  \n",
      "3  0.223928  \n"
     ]
    }
   ],
   "source": [
    "def get_cluster_info(window_areas, boundaries, heights, img_shape):\n",
    "    \n",
    "    counts = Counter(tuple(sublist) for sublist in boundaries)\n",
    "    duplicate_indices = {k: [i for i, sublist in enumerate(boundaries) if tuple(sublist) == k] \n",
    "                         for k, _ in counts.items()}\n",
    "    \n",
    "    cluster_info = []\n",
    "    floor_level = None\n",
    "    next_floor_level = None \n",
    "    floor_level_save = None\n",
    "    for i, (_, original_boundary) in enumerate(duplicate_indices.items()):\\\n",
    "    \n",
    "        #save the roof height from last level as current floor height          \n",
    "        if floor_level is None: \n",
    "            floor_level = img_shape[0]\n",
    "        else: \n",
    "            floor_level = floor_level_save\n",
    "\n",
    "        win_area_sum = sum(window_areas[i] for i in original_boundary)\n",
    "        avg_win_height = sum(heights[i] for i in original_boundary) / len(original_boundary)\n",
    "        middle_boundary = (boundaries[original_boundary[0]][0] + boundaries[original_boundary[0]][1]) / 2\n",
    "        avg_sill_height = middle_boundary + avg_win_height / 2\n",
    "        avg_top_window_height = middle_boundary - avg_win_height/2\n",
    "\n",
    "        if i < len(duplicate_indices) - 1:  # Check if there's a next iteration\n",
    "            next_cluster = list(duplicate_indices.items())[i + 1][1]\n",
    "            next_avg_win_height = sum(heights[j] for j in next_cluster) / len(next_cluster)\n",
    "\n",
    "            next_middle_boundary = (boundaries[next_cluster[0]][0] + boundaries[next_cluster[0]][1]) / 2\n",
    "            next_sill = next_middle_boundary + next_avg_win_height / 2\n",
    "            next_floor_level = next_sill + (2/3*(avg_top_window_height - next_sill))\n",
    "            floor_level_save = next_floor_level\n",
    "            floor_height = floor_level-next_floor_level\n",
    "            wall_area = floor_height * img_shape[1]\n",
    "            WWR = win_area_sum/wall_area\n",
    "        else: \n",
    "            next_floor_level = max_building_height\n",
    "            floor_height = floor_level - next_floor_level\n",
    "            floor_level_save = next_floor_level\n",
    "\n",
    "            wall_area = floor_height * img_shape[1]\n",
    "            WWR = win_area_sum/wall_area\n",
    "\n",
    "\n",
    "        cluster_info.append({\n",
    "            \"window_count\": len(original_boundary),\n",
    "            \"indices\": original_boundary,\n",
    "            \"boundary\": boundaries[original_boundary[0]],\n",
    "            \"avg_win_height\": avg_win_height,\n",
    "            \"floor_level\": floor_level,\n",
    "            \"roof_level\": next_floor_level,\n",
    "\n",
    "            \"floor_height\": floor_height,\n",
    "            \"avg_sill_height\": avg_sill_height,\n",
    "            \"window_area_sum\": win_area_sum,\n",
    "            \"wall_area\": wall_area,\n",
    "            \"WWR\": WWR\n",
    "        })\n",
    "        \n",
    "        cluster_df = pd.DataFrame(cluster_info)\n",
    "\n",
    "    return cluster_df\n",
    "cluster_info = get_cluster_info(window_area, window_clusters, window_height, img_shape)\n",
    "print(cluster_info)\n",
    "\n"
   ]
  },
  {
   "cell_type": "code",
   "execution_count": null,
   "metadata": {},
   "outputs": [],
   "source": [
    "# def cluster_info_to_m(cluster_info, px_per_m):\n",
    "#     for i in cluster_info[\"boundary\"][i][0]:\n",
    "#         i = cluster_info[\"boundary\"][i][0].astype(int)/px_per_m\n",
    "#     # cluster_info[\"boundary\"][1][0] = cluster_info[\"boundary\"][1][0]/px_per_m\n",
    "#     return(cluster_info)\n",
    "\n",
    "# # cluster_info_to_m(cluster_info, 27)\n",
    "# for i in cluster_info[\"boundary\"]:\n",
    "#     i = cluster_info[\"boundary\"][i][0].astype(int)/px_per_m\n",
    "# cluster_info[\"boundary\"][0][0] = cluster_info[\"boundary\"][0][0]/27\n",
    "# # print(cluster_info[\"boundary\"][0][0])"
   ]
  },
  {
   "cell_type": "code",
   "execution_count": null,
   "metadata": {},
   "outputs": [],
   "source": [
    "cluster_info.to_csv(\"data/cluster_info.csv\", sep=\";\", index=False, header=True)"
   ]
  },
  {
   "cell_type": "markdown",
   "metadata": {},
   "source": [
    "WHOEEEEEEE yay I think I retrieved all needed information for a facade! "
   ]
  },
  {
   "cell_type": "markdown",
   "metadata": {},
   "source": [
    "Keep into mind!!! cluster info is a list of dicts now, very annoying"
   ]
  },
  {
   "cell_type": "markdown",
   "metadata": {},
   "source": [
    "### my thoughts"
   ]
  },
  {
   "cell_type": "code",
   "execution_count": null,
   "metadata": {},
   "outputs": [
    {
     "name": "stdout",
     "output_type": "stream",
     "text": [
      "[0, [[858, 891], [857, 890]], 1, [[858, 891], [857, 890]], 2, [[766, 790], [766, 836], [766, 837]], 3, [[766, 790], [766, 836], [766, 837]], 4, [[766, 790], [766, 836], [766, 837]], 5, [[674, 743], [674, 743], [674, 742]], 6, [[674, 743], [674, 743], [674, 742]], 7, [[674, 743], [674, 743], [674, 742]], 8, [[584, 649], [581, 648], [581, 648]], 9, [[584, 649], [581, 648], [581, 648]], 10, [[584, 649], [581, 648], [581, 648]]]\n",
      "[[858, 891], [857, 890], [766, 790], [766, 836], [766, 837], [674, 743], [674, 743], [674, 742], [584, 649], [581, 648], [581, 648]]\n"
     ]
    }
   ],
   "source": [
    "# test, grouping windows \n",
    "window_clusters = []\n",
    "for index, window_1 in enumerate(y_bounds): \n",
    "    window_clusters.append(index)\n",
    "    cluster = []\n",
    "    for window_2 in y_bounds: \n",
    "        if window_2[0] <= window_1[1] and window_1[0] <= window_2[1]: \n",
    "            cluster.append(window_2)\n",
    "    window_clusters.append(cluster)  \n",
    "\n",
    "print(window_clusters)\n",
    "print(y_bounds)"
   ]
  },
  {
   "cell_type": "code",
   "execution_count": null,
   "metadata": {},
   "outputs": [
    {
     "ename": "TypeError",
     "evalue": "string indices must be integers",
     "output_type": "error",
     "traceback": [
      "\u001b[1;31m---------------------------------------------------------------------------\u001b[0m",
      "\u001b[1;31mTypeError\u001b[0m                                 Traceback (most recent call last)",
      "\u001b[1;32m<ipython-input-17-50113c499953>\u001b[0m in \u001b[0;36m<module>\u001b[1;34m\u001b[0m\n\u001b[0;32m      3\u001b[0m \u001b[1;33m\u001b[0m\u001b[0m\n\u001b[0;32m      4\u001b[0m \u001b[1;32mfor\u001b[0m \u001b[0mcluster\u001b[0m \u001b[1;32min\u001b[0m \u001b[0mcluster_info\u001b[0m\u001b[1;33m:\u001b[0m\u001b[1;33m\u001b[0m\u001b[1;33m\u001b[0m\u001b[0m\n\u001b[1;32m----> 5\u001b[1;33m     \u001b[0mfloor_height\u001b[0m \u001b[1;33m=\u001b[0m \u001b[1;33m(\u001b[0m\u001b[0mcluster\u001b[0m\u001b[1;33m[\u001b[0m\u001b[1;34m'floor_height'\u001b[0m\u001b[1;33m]\u001b[0m\u001b[1;33m)\u001b[0m\u001b[1;33m\u001b[0m\u001b[1;33m\u001b[0m\u001b[0m\n\u001b[0m\u001b[0;32m      6\u001b[0m     \u001b[0mwall_area\u001b[0m \u001b[1;33m=\u001b[0m \u001b[0mfloor_height\u001b[0m \u001b[1;33m*\u001b[0m \u001b[0mimg\u001b[0m\u001b[1;33m\u001b[0m\u001b[1;33m\u001b[0m\u001b[0m\n\u001b[0;32m      7\u001b[0m     \u001b[0mWWR\u001b[0m \u001b[1;33m=\u001b[0m \u001b[0mcluster\u001b[0m\u001b[1;33m[\u001b[0m\u001b[1;34m\"window_area_sum\"\u001b[0m\u001b[1;33m]\u001b[0m\u001b[1;33m/\u001b[0m\u001b[0mwall_area\u001b[0m\u001b[1;33m\u001b[0m\u001b[1;33m\u001b[0m\u001b[0m\n",
      "\u001b[1;31mTypeError\u001b[0m: string indices must be integers"
     ]
    }
   ],
   "source": [
    "last_floor_h = []\n",
    "# for the lowest average sill height, take difference with 900\n",
    "\n",
    "for cluster in cluster_info: \n",
    "    floor_height = (cluster['floor_height'])\n",
    "    wall_area = floor_height * img\n",
    "    WWR = cluster[\"window_area_sum\"]/wall_area\n",
    "    cluster[\"WWR\"] = WWR\n",
    "    # for checking if legitimate, devide by 30 to transpose pixels to meters\n",
    "    print(cluster)\n"
   ]
  },
  {
   "cell_type": "code",
   "execution_count": null,
   "metadata": {},
   "outputs": [],
   "source": [
    "# window_clusters = []\n",
    "# for index, window_1 in enumerate(y_bounds):\n",
    "#     for window_2 in y_bounds:\n",
    "#         if window_2[0] <= window_1[1] and window_1[0] <= window_2[1]: \n",
    "#             if window_2[0] < window_1[0]:\n",
    "#                 window_1[0] = window_2[0] \n",
    "#             else: \n",
    "#                 window_1[0] = window_1[0]\n",
    "#             if window_2[1] > window_1[1]: \n",
    "#                 window_1[1] = window_2[1]\n",
    "#             else:\n",
    "#                 window_1[1] = window_1[1] \n",
    "#     window_clusters.append(window_1)\n",
    "# print(window_clusters)\n",
    "# # count = Counter(tuple(x) for x in window_clusters)\n",
    "# # print(count)\n"
   ]
  },
  {
   "cell_type": "code",
   "execution_count": null,
   "metadata": {},
   "outputs": [],
   "source": [
    "# def count_duplicates_with_indices(list_of_lists):\n",
    "#     counts = Counter(tuple(sublist) for sublist in list_of_lists)\n",
    "#     duplicates = {k: [i for i, sublist in enumerate(list_of_lists) if tuple(sublist) == k] \n",
    "#                   for k, v in counts.items()}\n",
    "#     return duplicates\n",
    "\n",
    "# # Example usage (assuming 'y_bounds' is your list of lists):\n",
    "# duplicate_indices = count_duplicates_with_indices(window_clusters)\n",
    "# print(duplicate_indices)\n",
    "\n",
    "# def sum_values_by_duplicate_indices(values, duplicate_indices):\n",
    "#     sums = {}\n",
    "#     for duplicate_list in duplicate_indices.values():\n",
    "#         total = 0\n",
    "#         for index in duplicate_list:\n",
    "#             total += values[index]\n",
    "#         sums[tuple(duplicate_list)] = total\n",
    "#     return sums\n",
    "\n",
    "# # Example usage (assuming 'window_area' and 'duplicate_indices' are defined):\n",
    "# area_sums = sum_values_by_duplicate_indices(window_area, duplicate_indices)\n",
    "# print(window_area)\n",
    "# print(area_sums)\n",
    "\n",
    "# def get_duplicate_info_with_boundaries(boundaries, duplicate_indices):\n",
    "#     result = []\n",
    "#     for duplicate_list, area_sum in sum_values_by_duplicate_indices(window_area, duplicate_indices).items():\n",
    "#         original_boundary = boundaries[duplicate_list[0]]  # Take the first boundary as they are similar\n",
    "#         result.append({\n",
    "#             \"count\": len(duplicate_list),\n",
    "#             \"indices\": list(duplicate_list),\n",
    "#             \"boundary\": original_boundary,  # Use 'boundary' instead of 'boundaries'\n",
    "#             \"area_sum\": area_sum\n",
    "#         })\n",
    "#     return result\n",
    "\n",
    "# # Example usage (assuming 'window_clusters', 'window_area', and 'duplicate_indices' are defined):\n",
    "# duplicate_info = get_duplicate_info_with_boundaries(window_clusters, duplicate_indices)\n",
    "# print(duplicate_info)"
   ]
  },
  {
   "cell_type": "code",
   "execution_count": null,
   "metadata": {},
   "outputs": [],
   "source": [
    "# # test, editing the upper and lower margin of each group based on the extremes that are collected\n",
    "# # trying to do this without the step of first making the sub-lists per window, but instantly adapting the values when finding a next window\n",
    "# window_clusters = []\n",
    "# for index, window_1 in enumerate(y_bounds):\n",
    "#     # low_bound = []\n",
    "#     # high_bound = []\n",
    "#     # window_clusters.append(index)\n",
    "#     # cluster = []\n",
    "#     for window_2 in y_bounds:\n",
    "#         if window_2[0] <= window_1[1] and window_1[0] <= window_2[1]: \n",
    "#             if window_2[0] < window_1[0]:\n",
    "#                 window_1[0] = window_2[0] \n",
    "#             else: \n",
    "#                 window_1[0] = window_1[0]\n",
    "#             if window_2[1] > window_1[1]: \n",
    "#                 window_1[1] = window_2[1]\n",
    "#                 # high_bound = window_2[1]\n",
    "#             else:\n",
    "#                 window_1[1] = window_1[1] \n",
    "#                 # high_bound = window_1[1]\n",
    "#         # print(window_2)\n",
    "#     # print(window_1) \n",
    "\n",
    "#     # print(low_bound)\n",
    "#     # print(high_bound)\n",
    "        \n",
    "#         # high_bound = window_1[1] # high bound is still wrong, trying to wrap my head around it :) \n",
    " \n",
    "#         # else:\n",
    "#             # pass\n",
    "#     # print(low_bound)\n",
    "#     # print(high_bound)\n",
    "#             # high_bound = window_2[1]\n",
    "#             # print(high_bound)\n",
    "#         #         new_boundary.append(window_2[1])\n",
    "#         #     else: \n",
    "#         #         new_boundary.append(window_1[0])\n",
    "#         #     print(new_boundary)       \n",
    "#             # print(\"yay!\")\n",
    "#             # cluster.append(window_2)\n",
    "#         # else: \n",
    "#             # print(\"nay..\")\n",
    "#         # if window_1 is in cluster: \n",
    "#     window_clusters.append(window_1)\n",
    "#     # window_clusters.append(low_bound) \n",
    "# print(window_clusters)\n",
    "# # print(window_clusters) \n",
    "# # tuple(x) for x in window_clusters:\n",
    "# #     my_dict = {i:window_clusters.count(i) for i in window_clusters}\n",
    "# # print(my_dict)\n",
    "# count = Counter(tuple(x) for x in window_clusters)\n",
    "# print(count)\n",
    "# # >>> Counter(tuple(x) for x in lis)\n",
    "# # Counter({(12, 34, 56): 3, (45, 78, 334): 1, (56, 90, 78): 2})"
   ]
  },
  {
   "cell_type": "code",
   "execution_count": null,
   "metadata": {},
   "outputs": [],
   "source": [
    "# for index, window_1 in enumerate(y_bounds):\n",
    "#     print(window_1) \n",
    "#     window_clusters.append(index)\n",
    "#     cluster = []\n",
    "#     for window_2 in y_bounds:\n",
    "#         high_bound = []\n",
    "#         print(window_1[0], window_2[1])\n",
    "#         if window_1[0] <= window_2[1]:\n",
    "        \n",
    "#             high_bound = window_2[1]\n",
    "#             print(high_bound)"
   ]
  },
  {
   "cell_type": "markdown",
   "metadata": {},
   "source": [
    "todo's"
   ]
  },
  {
   "cell_type": "code",
   "execution_count": null,
   "metadata": {},
   "outputs": [],
   "source": []
  }
 ],
 "metadata": {
  "kernelspec": {
   "display_name": "Python 3",
   "language": "python",
   "name": "python3"
  },
  "language_info": {
   "codemirror_mode": {
    "name": "ipython",
    "version": 3
   },
   "file_extension": ".py",
   "mimetype": "text/x-python",
   "name": "python",
   "nbconvert_exporter": "python",
   "pygments_lexer": "ipython3",
   "version": "3.9.13"
  }
 },
 "nbformat": 4,
 "nbformat_minor": 2
}
