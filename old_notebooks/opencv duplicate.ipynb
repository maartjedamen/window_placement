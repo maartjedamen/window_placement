{
 "cells": [
  {
   "cell_type": "code",
   "execution_count": 131,
   "metadata": {},
   "outputs": [],
   "source": [
    "import cv2\n",
    "import pandas as pd\n",
    "import numpy as np"
   ]
  },
  {
   "cell_type": "code",
   "execution_count": 107,
   "metadata": {},
   "outputs": [],
   "source": [
    "img = cv2.imread(\"./data/masks/0363100012175978_4.380233.png\")\n",
    "cv2.imshow(\"Display window\", img)\n",
    "k = cv2.waitKey(0) # Wait for a keystroke in the window"
   ]
  },
  {
   "cell_type": "code",
   "execution_count": 132,
   "metadata": {},
   "outputs": [
    {
     "data": {
      "text/plain": [
       "True"
      ]
     },
     "execution_count": 132,
     "metadata": {},
     "output_type": "execute_result"
    }
   ],
   "source": [
    "image_rgb = cv2.cvtColor(img, cv2.COLOR_BGR2RGB)\n",
    "\n",
    "# Convert the image to HSV for better color segmentation\n",
    "hsv = cv2.cvtColor(image_rgb, cv2.COLOR_RGB2HSV)\n",
    "\n",
    "# save CSV to read the color values of the image \n",
    "hsv_2d = hsv.reshape((-1,3))\n",
    "df = pd.DataFrame(hsv_2d)\n",
    "tiles_csv_path = './data/junk/hsv.csv'\n",
    "df.to_csv(tiles_csv_path, index=False, header=False)\n",
    "\n",
    "'not integrated in the code, just read from the file'\n",
    "\n",
    "# retrieved color values\n",
    "sky_val = np.array([0,0,255])\n",
    "cl_fac_val = np.array([60,185,160])\n",
    "window_fac_val = np.array([102,211,180])\n",
    "door_fac_val = np.array([14,241,255])\n",
    "\n",
    "    # # add margin\n",
    "    # lower_val = window_fac_val -1\n",
    "    # upper_val = window_fac_val +1\n",
    "\n",
    "mask = cv2.inRange(hsv, window_fac_val, window_fac_val)\n",
    "\n",
    "#save image\n",
    "cv2.imwrite(\"data/cv2_window_mask.png\", mask)\n",
    "\n",
    "# show image \n",
    "    # cv2.imshow(\"img\", mask)\n",
    "    # cv2.waitKey(0)\n",
    "    # cv.destroyAllWindows()"
   ]
  },
  {
   "cell_type": "code",
   "execution_count": 127,
   "metadata": {},
   "outputs": [
    {
     "name": "stdout",
     "output_type": "stream",
     "text": [
      "[(106, 738, 32, 73), (58, 735, 33, 77), (17, 733, 29, 28), (58, 661, 35, 58), (15, 660, 32, 58), (105, 658, 34, 62), (106, 588, 34, 48), (13, 586, 33, 48), (59, 584, 34, 52), (60, 526, 31, 42)]\n"
     ]
    }
   ],
   "source": [
    "contours, _ = cv2.findContours(mask, cv2.RETR_EXTERNAL, cv2.CHAIN_APPROX_SIMPLE)\n",
    "    # contour = contours[0]\n",
    "    # print(type(contours))\n",
    "    # print(cv2.boundingRect(contour))\n",
    "\n",
    "    # Draw the contours on the original image for visualization\n",
    "    # image_contours = image.copy()\n",
    "    # cv2.drawContours(image_contours, contours, -1, (0, 255, 0), 3)\n",
    "\n",
    "# Calculate the height of each square's border\n",
    "borders = []\n",
    "\n",
    "for contour in contours:\n",
    "    borders.append(cv2.boundingRect(contour))\n",
    "\n",
    "print(borders)"
   ]
  },
  {
   "cell_type": "code",
   "execution_count": null,
   "metadata": {},
   "outputs": [],
   "source": [
    "# Approximate contours to polygons + get bounding rects and circles\n",
    "contours_poly = [None]*len(contours)\n",
    "boundRect = [None]*len(contours)\n",
    "# centers = [None]*len(contours)\n",
    "# radius = [None]*len(contours)\n",
    "for i, c in enumerate(contours):\n",
    "    contours_poly[i] = cv2.approxPolyDP(c, 3, True)\n",
    "    boundRect[i] = cv2.boundingRect(contours_poly[i])\n",
    "    # centers[i], radius[i] = cv.minEnclosingCircle(contours_poly[i])\n",
    "\n",
    "drawing = np.zeros((canny_output.shape[0], canny_output.shape[1], 3), dtype=np.uint8)\n",
    "\n",
    "# Draw polygonal contour + bonding rects + circles\n",
    "for i in range(len(contours)):\n",
    "    color = (0,0,255)\n",
    "    # cv2.drawContours(drawing, contours_poly, i, color)\n",
    "    cv2.rectangle(drawing, (int(boundRect[i][0]), int(boundRect[i][1])), (int(boundRect[i][0]+boundRect[i][2]), int(boundRect[i][1]+boundRect[i][3])), color, 2)\n"
   ]
  },
  {
   "cell_type": "code",
   "execution_count": 166,
   "metadata": {},
   "outputs": [
    {
     "name": "stderr",
     "output_type": "stream",
     "text": [
      "<ipython-input-166-6d46c01a66fd>:6: DeprecationWarning: `np.int0` is a deprecated alias for `np.intp`.  (Deprecated NumPy 1.24)\n",
      "  box = np.int0(box)\n"
     ]
    }
   ],
   "source": [
    "x,y,w,h = cv2.boundingRect(contour)\n",
    "# cv2.rectangle(img,(x,y),(x+w,y+h),(0,255,0),2)\n",
    "\n",
    "rect = cv2.minAreaRect(contour)\n",
    "box = cv2.boxPoints(rect)\n",
    "box = np.int0(box)\n",
    "show = cv2.drawContours(img,[box],0,(0,0,255),2)\n",
    "cv2.imshow(\"show\", show)\n",
    "k = cv2.waitKey(0) # Wait for a keystroke in the window"
   ]
  },
  {
   "cell_type": "code",
   "execution_count": 128,
   "metadata": {},
   "outputs": [
    {
     "name": "stdout",
     "output_type": "stream",
     "text": [
      "[[738, 665], [735, 658], [733, 705], [661, 603], [660, 602], [658, 596], [588, 540], [586, 538], [584, 532], [526, 484]]\n"
     ]
    }
   ],
   "source": [
    "#list heights of the upper and lower corner of each window\n",
    "y_bounds = []\n",
    "for border in borders:\n",
    "    y_bound = []\n",
    "    y_bound.append(border[1])\n",
    "    lower_corner = border[1] - border[3]\n",
    "    y_bound.append(lower_corner)\n",
    "    y_bounds.append(y_bound)\n",
    "print(y_bounds)"
   ]
  },
  {
   "cell_type": "code",
   "execution_count": 129,
   "metadata": {},
   "outputs": [
    {
     "name": "stdout",
     "output_type": "stream",
     "text": [
      "[[738, 665], [735, 658], [733, 705], [661, 603], [660, 602], [658, 596], [588, 540], [586, 538], [584, 532], [526, 484]]\n",
      "yay!\n"
     ]
    }
   ],
   "source": [
    "# first cluster-tests     \n",
    "print(y_bounds)\n",
    "if y_bounds[1][1] <= y_bounds[0][0] and y_bounds[0][1] <= y_bounds[1][0]: \n",
    "    print(\"yay!\")\n",
    "else: \n",
    "    print(\"nay..\")    "
   ]
  },
  {
   "cell_type": "code",
   "execution_count": 133,
   "metadata": {},
   "outputs": [
    {
     "name": "stdout",
     "output_type": "stream",
     "text": [
      "[0, ['yay', 'yay', 'yay'], 1, ['yay', 'yay', 'yay', 'yay', 'yay', 'yay'], 2, ['yay', 'yay', 'yay'], 3, ['yay', 'yay', 'yay', 'yay'], 4, ['yay', 'yay', 'yay', 'yay'], 5, ['yay', 'yay', 'yay', 'yay'], 6, ['yay', 'yay', 'yay'], 7, ['yay', 'yay', 'yay'], 8, ['yay', 'yay', 'yay'], 9, ['yay']]\n"
     ]
    }
   ],
   "source": [
    "window_clusters = []\n",
    "for index, window_1 in enumerate(y_bounds): \n",
    "    window_clusters.append(index)\n",
    "    cluster = []\n",
    "    for window_2 in y_bounds: \n",
    "        if window_2[1] <= window_1[0] and window_1[1] <= window_2[0]: \n",
    "            # print(\"yay!\")\n",
    "            cluster.append(\"yay\")\n",
    "        # else: \n",
    "            # print(\"nay..\")\n",
    "    window_clusters.append(cluster)  \n",
    "\n",
    "print(window_clusters)  "
   ]
  },
  {
   "cell_type": "code",
   "execution_count": 124,
   "metadata": {},
   "outputs": [
    {
     "name": "stdout",
     "output_type": "stream",
     "text": [
      "Number of clusters: 10\n",
      "Sets per cluster: [1, 1, 1, 1, 1, 1, 1, 1, 1, 1]\n"
     ]
    }
   ],
   "source": [
    "# chatgpt code, messsssss\n",
    "class UnionFind:\n",
    "    def __init__(self, size):\n",
    "        self.parent = list(range(size))\n",
    "        self.rank = [1] * size\n",
    "    \n",
    "    def find(self, node):\n",
    "        if self.parent[node] != node:\n",
    "            self.parent[node] = self.find(self.parent[node])\n",
    "        return self.parent[node]\n",
    "    \n",
    "    def union(self, node1, node2):\n",
    "        root1 = self.find(node1)\n",
    "        root2 = self.find(node2)\n",
    "        \n",
    "        if root1 != root2:\n",
    "            if self.rank[root1] > self.rank[root2]:\n",
    "                self.parent[root2] = root1\n",
    "            elif self.rank[root1] < self.rank[root2]:\n",
    "                self.parent[root1] = root2\n",
    "            else:\n",
    "                self.parent[root2] = root1\n",
    "                self.rank[root1] += 1\n",
    "\n",
    "def is_overlapping(interval1, interval2):\n",
    "    return interval1[1] >= interval2[0] and interval2[1] >= interval1[0]\n",
    "\n",
    "def cluster_intervals(intervals):\n",
    "    n = len(intervals)\n",
    "    uf = UnionFind(n)\n",
    "    \n",
    "    for i in range(n):\n",
    "        for j in range(i + 1, n):\n",
    "            if is_overlapping(intervals[i], intervals[j]):\n",
    "                uf.union(i, j)\n",
    "    \n",
    "    # Count clusters\n",
    "    root_counter = {}\n",
    "    for i in range(n):\n",
    "        root = uf.find(i)\n",
    "        if root in root_counter:\n",
    "            root_counter[root] += 1\n",
    "        else:\n",
    "            root_counter[root] = 1\n",
    "    \n",
    "    # Number of clusters and sets per cluster\n",
    "    num_clusters = len(root_counter)\n",
    "    sets_per_cluster = list(root_counter.values())\n",
    "    \n",
    "    return num_clusters, sets_per_cluster\n",
    "\n",
    "# Example usage\n",
    "y_bounds = [[738, 665], [735, 658], [733, 705], [661, 603], [660, 602], [658, 596], [588, 540], [586, 538], [584, 532], [526, 484]]\n",
    "num_clusters, sets_per_cluster = cluster_intervals(y_bounds)\n",
    "print(f\"Number of clusters: {num_clusters}\")\n",
    "print(f\"Sets per cluster: {sets_per_cluster}\")"
   ]
  },
  {
   "cell_type": "code",
   "execution_count": 103,
   "metadata": {},
   "outputs": [
    {
     "name": "stdout",
     "output_type": "stream",
     "text": [
      "[738, 665]\n",
      "yay!\n",
      "[735, 658]\n",
      "yay!\n",
      "[733, 705]\n",
      "yay!\n",
      "[661, 603]\n",
      "nay..\n",
      "[660, 602]\n",
      "nay..\n",
      "[658, 596]\n",
      "nay..\n",
      "[588, 540]\n",
      "nay..\n",
      "[586, 538]\n",
      "nay..\n",
      "[584, 532]\n",
      "nay..\n",
      "[526, 484]\n",
      "nay..\n",
      "[738, 665]\n",
      "yay!\n",
      "[735, 658]\n",
      "yay!\n",
      "[733, 705]\n",
      "yay!\n",
      "[661, 603]\n",
      "yay!\n",
      "[660, 602]\n",
      "yay!\n",
      "[658, 596]\n",
      "yay!\n",
      "[588, 540]\n",
      "nay..\n",
      "[586, 538]\n",
      "nay..\n",
      "[584, 532]\n",
      "nay..\n",
      "[526, 484]\n",
      "nay..\n",
      "[738, 665]\n",
      "yay!\n",
      "[735, 658]\n",
      "yay!\n",
      "[733, 705]\n",
      "yay!\n",
      "[661, 603]\n",
      "nay..\n",
      "[660, 602]\n",
      "nay..\n",
      "[658, 596]\n",
      "nay..\n",
      "[588, 540]\n",
      "nay..\n",
      "[586, 538]\n",
      "nay..\n",
      "[584, 532]\n",
      "nay..\n",
      "[526, 484]\n",
      "nay..\n",
      "[738, 665]\n",
      "nay..\n",
      "[735, 658]\n",
      "yay!\n",
      "[733, 705]\n",
      "nay..\n",
      "[661, 603]\n",
      "yay!\n",
      "[660, 602]\n",
      "yay!\n",
      "[658, 596]\n",
      "yay!\n",
      "[588, 540]\n",
      "nay..\n",
      "[586, 538]\n",
      "nay..\n",
      "[584, 532]\n",
      "nay..\n",
      "[526, 484]\n",
      "nay..\n",
      "[738, 665]\n",
      "nay..\n",
      "[735, 658]\n",
      "yay!\n",
      "[733, 705]\n",
      "nay..\n",
      "[661, 603]\n",
      "yay!\n",
      "[660, 602]\n",
      "yay!\n",
      "[658, 596]\n",
      "yay!\n",
      "[588, 540]\n",
      "nay..\n",
      "[586, 538]\n",
      "nay..\n",
      "[584, 532]\n",
      "nay..\n",
      "[526, 484]\n",
      "nay..\n",
      "[738, 665]\n",
      "nay..\n",
      "[735, 658]\n",
      "yay!\n",
      "[733, 705]\n",
      "nay..\n",
      "[661, 603]\n",
      "yay!\n",
      "[660, 602]\n",
      "yay!\n",
      "[658, 596]\n",
      "yay!\n",
      "[588, 540]\n",
      "nay..\n",
      "[586, 538]\n",
      "nay..\n",
      "[584, 532]\n",
      "nay..\n",
      "[526, 484]\n",
      "nay..\n",
      "[738, 665]\n",
      "nay..\n",
      "[735, 658]\n",
      "nay..\n",
      "[733, 705]\n",
      "nay..\n",
      "[661, 603]\n",
      "nay..\n",
      "[660, 602]\n",
      "nay..\n",
      "[658, 596]\n",
      "nay..\n",
      "[588, 540]\n",
      "yay!\n",
      "[586, 538]\n",
      "yay!\n",
      "[584, 532]\n",
      "yay!\n",
      "[526, 484]\n",
      "nay..\n",
      "[738, 665]\n",
      "nay..\n",
      "[735, 658]\n",
      "nay..\n",
      "[733, 705]\n",
      "nay..\n",
      "[661, 603]\n",
      "nay..\n",
      "[660, 602]\n",
      "nay..\n",
      "[658, 596]\n",
      "nay..\n",
      "[588, 540]\n",
      "yay!\n",
      "[586, 538]\n",
      "yay!\n",
      "[584, 532]\n",
      "yay!\n",
      "[526, 484]\n",
      "nay..\n",
      "[738, 665]\n",
      "nay..\n",
      "[735, 658]\n",
      "nay..\n",
      "[733, 705]\n",
      "nay..\n",
      "[661, 603]\n",
      "nay..\n",
      "[660, 602]\n",
      "nay..\n",
      "[658, 596]\n",
      "nay..\n",
      "[588, 540]\n",
      "yay!\n",
      "[586, 538]\n",
      "yay!\n",
      "[584, 532]\n",
      "yay!\n",
      "[526, 484]\n",
      "nay..\n",
      "[738, 665]\n",
      "nay..\n",
      "[735, 658]\n",
      "nay..\n",
      "[733, 705]\n",
      "nay..\n",
      "[661, 603]\n",
      "nay..\n",
      "[660, 602]\n",
      "nay..\n",
      "[658, 596]\n",
      "nay..\n",
      "[588, 540]\n",
      "nay..\n",
      "[586, 538]\n",
      "nay..\n",
      "[584, 532]\n",
      "nay..\n",
      "[526, 484]\n",
      "yay!\n"
     ]
    }
   ],
   "source": [
    "# this one is working as a backup\n",
    "for second_window in y_bounds: \n",
    "    for window in y_bounds: \n",
    "        if window[1] <= second_window[0] and second_window[1] <= window[0]: \n",
    "            print(\"yay!\")\n",
    "        else: \n",
    "            print(\"nay..\")    "
   ]
  },
  {
   "cell_type": "code",
   "execution_count": null,
   "metadata": {},
   "outputs": [],
   "source": [
    "# for each \n",
    "# if x_start <= y_end && y_start <= x_end"
   ]
  },
  {
   "cell_type": "code",
   "execution_count": null,
   "metadata": {},
   "outputs": [],
   "source": [
    "# # Display the result\n",
    "# cv2.imshow('Blue Squares and Borders', contours)\n",
    "# cv2.waitKey(0)\n",
    "# cv2.destroyAllWindows()"
   ]
  }
 ],
 "metadata": {
  "kernelspec": {
   "display_name": "Python 3",
   "language": "python",
   "name": "python3"
  },
  "language_info": {
   "codemirror_mode": {
    "name": "ipython",
    "version": 3
   },
   "file_extension": ".py",
   "mimetype": "text/x-python",
   "name": "python",
   "nbconvert_exporter": "python",
   "pygments_lexer": "ipython3",
   "version": "3.9.13"
  }
 },
 "nbformat": 4,
 "nbformat_minor": 2
}
