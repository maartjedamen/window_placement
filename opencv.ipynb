{
 "cells": [
  {
   "cell_type": "markdown",
   "metadata": {},
   "source": [
    "#### import libraries "
   ]
  },
  {
   "cell_type": "code",
   "execution_count": 2,
   "metadata": {},
   "outputs": [],
   "source": [
    "import cv2\n",
    "import pandas as pd\n",
    "import numpy as np\n",
    "from collections import Counter"
   ]
  },
  {
   "cell_type": "markdown",
   "metadata": {},
   "source": [
    "#### read image(s)"
   ]
  },
  {
   "cell_type": "code",
   "execution_count": 60,
   "metadata": {},
   "outputs": [],
   "source": [
    "img = cv2.imread(\"./data/masks/0363100012175996_4.372222.png\")\n",
    "cv2.imshow(\"Display window\", img)\n",
    "k = cv2.waitKey(0) # Wait for a keystroke in the window"
   ]
  },
  {
   "cell_type": "markdown",
   "metadata": {},
   "source": [
    "### Extract only the windows from the mask"
   ]
  },
  {
   "cell_type": "code",
   "execution_count": 61,
   "metadata": {},
   "outputs": [
    {
     "name": "stdout",
     "output_type": "stream",
     "text": [
      "(900, 151, 3)\n"
     ]
    }
   ],
   "source": [
    "image_rgb = cv2.cvtColor(img, cv2.COLOR_BGR2RGB)\n",
    "\n",
    "# Convert the image to HSV for better color segmentation\n",
    "hsv = cv2.cvtColor(image_rgb, cv2.COLOR_RGB2HSV)\n",
    "\n",
    "# save CSV to read the color values of the image \n",
    "hsv_2d = hsv.reshape((-1,3))\n",
    "df = pd.DataFrame(hsv_2d)\n",
    "tiles_csv_path = './data/junk/hsv.csv'\n",
    "df.to_csv(tiles_csv_path, index=False, header=False)\n",
    "\n",
    "'not integrated in the code, just read from the file'\n",
    "\n",
    "# retrieved color values\n",
    "sky_val = np.array([0,0,255])\n",
    "cl_fac_val = np.array([60,185,160])\n",
    "window_fac_val = np.array([102,211,180])\n",
    "door_fac_val = np.array([14,241,255])\n",
    "\n",
    "mask = cv2.inRange(hsv, window_fac_val, window_fac_val)\n",
    "\n",
    "#save image\n",
    "cv2.imwrite(\"data/cv2_window_mask.png\", mask)\n",
    "img_shape= img.shape\n",
    "print(img_shape)\n",
    "\n",
    "# show image \n",
    "# cv2.imshow(\"img\", mask)\n",
    "# cv2.waitKey(0)\n",
    "# cv2.destroyAllWindows()"
   ]
  },
  {
   "cell_type": "markdown",
   "metadata": {},
   "source": [
    "### simplify windows to xy minimum bounding rectangles "
   ]
  },
  {
   "cell_type": "code",
   "execution_count": 65,
   "metadata": {},
   "outputs": [
    {
     "name": "stdout",
     "output_type": "stream",
     "text": [
      "[(21, 839, 47, 38), (15, 743, 30, 70), (60, 742, 30, 70), (104, 739, 31, 69), (14, 667, 30, 49), (61, 665, 30, 51), (107, 659, 30, 58), (13, 598, 31, 37), (106, 594, 31, 39), (61, 594, 30, 47), (61, 534, 31, 31)]\n"
     ]
    }
   ],
   "source": [
    "contours, _ = cv2.findContours(mask, cv2.RETR_EXTERNAL, cv2.CHAIN_APPROX_SIMPLE)\n",
    "\n",
    "# Approximate contours to polygons + get bounding rects\n",
    "contours_poly = [None]*len(contours)\n",
    "boundRect = [None]*len(contours)\n",
    "\n",
    "for i, c in enumerate(contours):\n",
    "    contours_poly[i] = cv2.approxPolyDP(c, 3, True)\n",
    "    boundRect[i] = cv2.boundingRect(contours_poly[i])\n",
    "print(boundRect)                                #  in order of X, Y,(top-left coordinate of the rectangle) and width, height \n",
    "\n",
    "\n",
    "drawing = np.zeros((mask.shape[0], mask.shape[1], 3), dtype=np.uint8)\n",
    "# Draw polygonal contour + bonding rects + circles\n",
    "for i in range(len(contours)):\n",
    "    color = (0,0,255)\n",
    "    cv2.rectangle(drawing, (int(boundRect[i][0]), int(boundRect[i][1])), \n",
    "    (int(boundRect[i][0]+boundRect[i][2]), int(boundRect[i][1]+boundRect[i][3])), color, 2)\n",
    "cv2.imwrite(\"data/cv2_window_contours.png\", drawing)\n",
    "cv2.imshow('Contours', drawing)\n",
    "k = cv2.waitKey(0) # Wait for a keystroke in the window"
   ]
  },
  {
   "cell_type": "markdown",
   "metadata": {},
   "source": [
    "### retrieve additional window information"
   ]
  },
  {
   "cell_type": "code",
   "execution_count": 66,
   "metadata": {},
   "outputs": [
    {
     "name": "stdout",
     "output_type": "stream",
     "text": [
      "[[839, 877], [743, 813], [742, 812], [739, 808], [667, 716], [665, 716], [659, 717], [598, 635], [594, 633], [594, 641], [534, 565]]\n",
      "[1786, 2100, 2100, 2139, 1470, 1530, 1740, 1147, 1209, 1410, 961]\n",
      "[38, 70, 70, 69, 49, 51, 58, 37, 39, 47, 31]\n"
     ]
    }
   ],
   "source": [
    "#list heights of the upper and lower corner of each window\n",
    "y_bounds = []\n",
    "window_area = []\n",
    "window_height = []\n",
    "for border in boundRect:\n",
    "    y_bound = []\n",
    "    y_bound.append(border[1])\n",
    "    upper_corner = border[1] + border[3]\n",
    "    y_bound.append(upper_corner)\n",
    "    y_bounds.append(y_bound)\n",
    "    window_area.append(border[2]*border[3])\n",
    "    window_height.append(border[3])\n",
    "print(y_bounds)\n",
    "print(window_area)\n",
    "print(window_height)"
   ]
  },
  {
   "cell_type": "markdown",
   "metadata": {},
   "source": [
    "### define window clusters"
   ]
  },
  {
   "cell_type": "code",
   "execution_count": 68,
   "metadata": {},
   "outputs": [
    {
     "name": "stdout",
     "output_type": "stream",
     "text": [
      "[[839, 877], [739, 813], [739, 813], [739, 813], [659, 717], [659, 717], [659, 717], [594, 641], [594, 641], [594, 641], [534, 565]]\n"
     ]
    }
   ],
   "source": [
    "def find_window_clusters(window_y_bounds): \n",
    "    window_clusters = []\n",
    "    for index, window_1 in enumerate(window_y_bounds):\n",
    "        new_window = [\n",
    "            min(window_1[0], min(window_2[0] for window_2 in y_bounds if window_2[0] <= window_1[1] and window_1[0] <= window_2[1])),\n",
    "            max(window_1[1], max(window_2[1] for window_2 in y_bounds if window_2[0] <= window_1[1] and window_1[0] <= window_2[1]))\n",
    "        ]\n",
    "        window_clusters.append(new_window)\n",
    "    return window_clusters\n",
    "\n",
    "window_clusters = find_window_clusters(y_bounds)\n",
    "print(window_clusters)"
   ]
  },
  {
   "cell_type": "markdown",
   "metadata": {},
   "source": [
    "### calculate relevant window- & floor information "
   ]
  },
  {
   "cell_type": "code",
   "execution_count": 69,
   "metadata": {},
   "outputs": [
    {
     "name": "stdout",
     "output_type": "stream",
     "text": [
      "{'count': 1, 'indices': [0], 'boundary': [839, 877], 'window_area_sum': 1786, 'avg_height': 38.0, 'floor_height': -4.0, 'avg_sill_height': 877.0, 'WWR': -2.956953642384106}\n",
      "{'count': 3, 'indices': [1, 2, 3], 'boundary': [739, 813], 'window_area_sum': 6339, 'avg_height': 69.66666666666667, 'floor_height': 66.16666666666663, 'avg_sill_height': 810.8333333333334, 'WWR': 0.6344604400553826}\n",
      "{'count': 3, 'indices': [4, 5, 6], 'boundary': [659, 717], 'window_area_sum': 4740, 'avg_height': 52.666666666666664, 'floor_height': 96.5, 'avg_sill_height': 714.3333333333334, 'WWR': 0.32529252307586726}\n",
      "{'count': 3, 'indices': [7, 8, 9], 'boundary': [594, 641], 'window_area_sum': 3766, 'avg_height': 41.0, 'floor_height': 76.33333333333337, 'avg_sill_height': 638.0, 'WWR': 0.3267300963012231}\n",
      "{'count': 1, 'indices': [10], 'boundary': [534, 565], 'window_area_sum': 961, 'avg_height': 31.0, 'floor_height': 73.0, 'avg_sill_height': 565.0, 'WWR': 0.08718134809035653}\n"
     ]
    }
   ],
   "source": [
    "def get_cluster_info(values, boundaries, heights, img_shape):\n",
    "    counts = Counter(tuple(sublist) for sublist in boundaries)\n",
    "    duplicate_indices = {k: [i for i, sublist in enumerate(boundaries) if tuple(sublist) == k] \n",
    "                         for k, _ in counts.items()}\n",
    "    \n",
    "    cluster_info = []\n",
    "    previous_floor_level = None\n",
    "    for _, original_boundary in duplicate_indices.items():\n",
    "        area_sum = sum(values[i] for i in original_boundary)\n",
    "        avg_height = sum(heights[i] for i in original_boundary) / len(original_boundary)\n",
    "        middle_boundary = (boundaries[original_boundary[0]][0] + boundaries[original_boundary[0]][1]) / 2\n",
    "        avg_sill_height = middle_boundary + avg_height / 2\n",
    "        floor_level = img_shape[0] - (avg_sill_height + 27) #29px is an assumption of a consistent .9m sill height\n",
    "        \n",
    "        if previous_floor_level is not None:\n",
    "            floor_height = floor_level - previous_floor_level\n",
    "        else:\n",
    "            floor_height = floor_level  \n",
    "        wall_area = floor_height * img_shape[1]\n",
    "        WWR = area_sum/wall_area\n",
    "\n",
    "        cluster_info.append({\n",
    "            \"count\": len(original_boundary),\n",
    "            \"indices\": original_boundary,\n",
    "            \"boundary\": boundaries[original_boundary[0]],\n",
    "            \"window_area_sum\": area_sum,\n",
    "            \"avg_height\": avg_height,\n",
    "            # \"floor_level\": floor_level,\n",
    "            \"floor_height\": floor_height,\n",
    "            \"avg_sill_height\": avg_sill_height,\n",
    "            \"WWR\": WWR\n",
    "        })\n",
    "        previous_floor_level = floor_level  # Update previous_floor_level HERE\n",
    "\n",
    "    return cluster_info\n",
    "cluster_info = get_cluster_info(window_area, window_clusters, window_height, img_shape)\n",
    "\n",
    "for cluster in cluster_info: \n",
    "    print(cluster)"
   ]
  },
  {
   "cell_type": "markdown",
   "metadata": {},
   "source": [
    "WHOEEEEEEE yay I think I retrieved all needed information for a facade! "
   ]
  },
  {
   "cell_type": "markdown",
   "metadata": {},
   "source": [
    "Keep into mind!!! cluster info is a list of dicts now, very annoying"
   ]
  },
  {
   "cell_type": "markdown",
   "metadata": {},
   "source": [
    "### my thoughts"
   ]
  },
  {
   "cell_type": "code",
   "execution_count": null,
   "metadata": {},
   "outputs": [
    {
     "name": "stdout",
     "output_type": "stream",
     "text": [
      "[0, [[738, 811], [735, 812], [733, 761]], 1, [[738, 811], [735, 812], [733, 761]], 2, [[738, 811], [735, 812], [733, 761]], 3, [[661, 719], [660, 718], [658, 720]], 4, [[661, 719], [660, 718], [658, 720]], 5, [[661, 719], [660, 718], [658, 720]], 6, [[588, 636], [586, 634], [584, 636]], 7, [[588, 636], [586, 634], [584, 636]], 8, [[588, 636], [586, 634], [584, 636]], 9, [[526, 568]]]\n",
      "[[738, 811], [735, 812], [733, 761], [661, 719], [660, 718], [658, 720], [588, 636], [586, 634], [584, 636], [526, 568]]\n"
     ]
    }
   ],
   "source": [
    "# test, grouping windows \n",
    "window_clusters = []\n",
    "for index, window_1 in enumerate(y_bounds): \n",
    "    window_clusters.append(index)\n",
    "    cluster = []\n",
    "    for window_2 in y_bounds: \n",
    "        if window_2[0] <= window_1[1] and window_1[0] <= window_2[1]: \n",
    "            cluster.append(window_2)\n",
    "    window_clusters.append(cluster)  \n",
    "\n",
    "print(window_clusters)\n",
    "print(y_bounds)"
   ]
  },
  {
   "cell_type": "code",
   "execution_count": 43,
   "metadata": {},
   "outputs": [
    {
     "name": "stdout",
     "output_type": "stream",
     "text": [
      "{'count': 3, 'indices': [0, 1, 2], 'boundary': [733, 812], 'window_area_sum': 5689, 'avg_height': 59.333333333333336, 'floor_height': 70.83333333333337, 'avg_sill_height': 802.1666666666666, 'WWR': 0.5283900928792568}\n",
      "{'count': 3, 'indices': [3, 4, 5], 'boundary': [658, 720], 'window_area_sum': 5994, 'avg_height': 59.333333333333336, 'floor_height': 83.5, 'avg_sill_height': 718.6666666666666, 'WWR': 0.47226599432713523}\n",
      "{'count': 3, 'indices': [6, 7, 8], 'boundary': [584, 636], 'window_area_sum': 4984, 'avg_height': 49.333333333333336, 'floor_height': 84.0, 'avg_sill_height': 634.6666666666666, 'WWR': 0.39035087719298245}\n",
      "{'count': 1, 'indices': [9], 'boundary': [526, 568], 'window_area_sum': 1302, 'avg_height': 42.0, 'floor_height': 66.66666666666663, 'avg_sill_height': 568.0, 'WWR': 0.12848684210526323}\n"
     ]
    }
   ],
   "source": [
    "last_floor_h = []\n",
    "# for the lowest average sill height, take difference with 900\n",
    "\n",
    "for cluster in cluster_info: \n",
    "    floor_height = (cluster['floor_height'])\n",
    "    wall_area = floor_height * img\n",
    "    WWR = cluster[\"window_area_sum\"]/wall_area\n",
    "    cluster[\"WWR\"] = WWR\n",
    "    # for checking if legitimate, devide by 30 to transpose pixels to meters\n",
    "    print(cluster)\n"
   ]
  },
  {
   "cell_type": "code",
   "execution_count": 44,
   "metadata": {},
   "outputs": [],
   "source": [
    "# window_clusters = []\n",
    "# for index, window_1 in enumerate(y_bounds):\n",
    "#     for window_2 in y_bounds:\n",
    "#         if window_2[0] <= window_1[1] and window_1[0] <= window_2[1]: \n",
    "#             if window_2[0] < window_1[0]:\n",
    "#                 window_1[0] = window_2[0] \n",
    "#             else: \n",
    "#                 window_1[0] = window_1[0]\n",
    "#             if window_2[1] > window_1[1]: \n",
    "#                 window_1[1] = window_2[1]\n",
    "#             else:\n",
    "#                 window_1[1] = window_1[1] \n",
    "#     window_clusters.append(window_1)\n",
    "# print(window_clusters)\n",
    "# # count = Counter(tuple(x) for x in window_clusters)\n",
    "# # print(count)\n"
   ]
  },
  {
   "cell_type": "code",
   "execution_count": 45,
   "metadata": {},
   "outputs": [],
   "source": [
    "# def count_duplicates_with_indices(list_of_lists):\n",
    "#     counts = Counter(tuple(sublist) for sublist in list_of_lists)\n",
    "#     duplicates = {k: [i for i, sublist in enumerate(list_of_lists) if tuple(sublist) == k] \n",
    "#                   for k, v in counts.items()}\n",
    "#     return duplicates\n",
    "\n",
    "# # Example usage (assuming 'y_bounds' is your list of lists):\n",
    "# duplicate_indices = count_duplicates_with_indices(window_clusters)\n",
    "# print(duplicate_indices)\n",
    "\n",
    "# def sum_values_by_duplicate_indices(values, duplicate_indices):\n",
    "#     sums = {}\n",
    "#     for duplicate_list in duplicate_indices.values():\n",
    "#         total = 0\n",
    "#         for index in duplicate_list:\n",
    "#             total += values[index]\n",
    "#         sums[tuple(duplicate_list)] = total\n",
    "#     return sums\n",
    "\n",
    "# # Example usage (assuming 'window_area' and 'duplicate_indices' are defined):\n",
    "# area_sums = sum_values_by_duplicate_indices(window_area, duplicate_indices)\n",
    "# print(window_area)\n",
    "# print(area_sums)\n",
    "\n",
    "# def get_duplicate_info_with_boundaries(boundaries, duplicate_indices):\n",
    "#     result = []\n",
    "#     for duplicate_list, area_sum in sum_values_by_duplicate_indices(window_area, duplicate_indices).items():\n",
    "#         original_boundary = boundaries[duplicate_list[0]]  # Take the first boundary as they are similar\n",
    "#         result.append({\n",
    "#             \"count\": len(duplicate_list),\n",
    "#             \"indices\": list(duplicate_list),\n",
    "#             \"boundary\": original_boundary,  # Use 'boundary' instead of 'boundaries'\n",
    "#             \"area_sum\": area_sum\n",
    "#         })\n",
    "#     return result\n",
    "\n",
    "# # Example usage (assuming 'window_clusters', 'window_area', and 'duplicate_indices' are defined):\n",
    "# duplicate_info = get_duplicate_info_with_boundaries(window_clusters, duplicate_indices)\n",
    "# print(duplicate_info)"
   ]
  },
  {
   "cell_type": "code",
   "execution_count": 46,
   "metadata": {},
   "outputs": [],
   "source": [
    "# # test, editing the upper and lower margin of each group based on the extremes that are collected\n",
    "# # trying to do this without the step of first making the sub-lists per window, but instantly adapting the values when finding a next window\n",
    "# window_clusters = []\n",
    "# for index, window_1 in enumerate(y_bounds):\n",
    "#     # low_bound = []\n",
    "#     # high_bound = []\n",
    "#     # window_clusters.append(index)\n",
    "#     # cluster = []\n",
    "#     for window_2 in y_bounds:\n",
    "#         if window_2[0] <= window_1[1] and window_1[0] <= window_2[1]: \n",
    "#             if window_2[0] < window_1[0]:\n",
    "#                 window_1[0] = window_2[0] \n",
    "#             else: \n",
    "#                 window_1[0] = window_1[0]\n",
    "#             if window_2[1] > window_1[1]: \n",
    "#                 window_1[1] = window_2[1]\n",
    "#                 # high_bound = window_2[1]\n",
    "#             else:\n",
    "#                 window_1[1] = window_1[1] \n",
    "#                 # high_bound = window_1[1]\n",
    "#         # print(window_2)\n",
    "#     # print(window_1) \n",
    "\n",
    "#     # print(low_bound)\n",
    "#     # print(high_bound)\n",
    "        \n",
    "#         # high_bound = window_1[1] # high bound is still wrong, trying to wrap my head around it :) \n",
    " \n",
    "#         # else:\n",
    "#             # pass\n",
    "#     # print(low_bound)\n",
    "#     # print(high_bound)\n",
    "#             # high_bound = window_2[1]\n",
    "#             # print(high_bound)\n",
    "#         #         new_boundary.append(window_2[1])\n",
    "#         #     else: \n",
    "#         #         new_boundary.append(window_1[0])\n",
    "#         #     print(new_boundary)       \n",
    "#             # print(\"yay!\")\n",
    "#             # cluster.append(window_2)\n",
    "#         # else: \n",
    "#             # print(\"nay..\")\n",
    "#         # if window_1 is in cluster: \n",
    "#     window_clusters.append(window_1)\n",
    "#     # window_clusters.append(low_bound) \n",
    "# print(window_clusters)\n",
    "# # print(window_clusters) \n",
    "# # tuple(x) for x in window_clusters:\n",
    "# #     my_dict = {i:window_clusters.count(i) for i in window_clusters}\n",
    "# # print(my_dict)\n",
    "# count = Counter(tuple(x) for x in window_clusters)\n",
    "# print(count)\n",
    "# # >>> Counter(tuple(x) for x in lis)\n",
    "# # Counter({(12, 34, 56): 3, (45, 78, 334): 1, (56, 90, 78): 2})"
   ]
  },
  {
   "cell_type": "code",
   "execution_count": 47,
   "metadata": {},
   "outputs": [],
   "source": [
    "# for index, window_1 in enumerate(y_bounds):\n",
    "#     print(window_1) \n",
    "#     window_clusters.append(index)\n",
    "#     cluster = []\n",
    "#     for window_2 in y_bounds:\n",
    "#         high_bound = []\n",
    "#         print(window_1[0], window_2[1])\n",
    "#         if window_1[0] <= window_2[1]:\n",
    "        \n",
    "#             high_bound = window_2[1]\n",
    "#             print(high_bound)"
   ]
  },
  {
   "cell_type": "markdown",
   "metadata": {},
   "source": [
    "todo's"
   ]
  },
  {
   "cell_type": "code",
   "execution_count": null,
   "metadata": {},
   "outputs": [],
   "source": []
  }
 ],
 "metadata": {
  "kernelspec": {
   "display_name": "Python 3",
   "language": "python",
   "name": "python3"
  },
  "language_info": {
   "codemirror_mode": {
    "name": "ipython",
    "version": 3
   },
   "file_extension": ".py",
   "mimetype": "text/x-python",
   "name": "python",
   "nbconvert_exporter": "python",
   "pygments_lexer": "ipython3",
   "version": "3.9.13"
  }
 },
 "nbformat": 4,
 "nbformat_minor": 2
}
