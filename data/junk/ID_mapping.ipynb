{
 "cells": [
  {
   "cell_type": "code",
   "execution_count": 2,
   "metadata": {},
   "outputs": [],
   "source": [
    "import os\n",
    "import pandas as pd\n",
    "import geopandas as gpd"
   ]
  },
  {
   "cell_type": "code",
   "execution_count": 3,
   "metadata": {},
   "outputs": [],
   "source": [
    "list_files = os.listdir('./data/Dang and Eijgenstein/Amsterdam_facade_dataset/train_mask')\n",
    "IDs =[]\n",
    "for file in list_files: \n",
    "    ID_segments = file.split(\"_\")\n",
    "    # Photo_dist = \n",
    "    # print(Photo_dist)\n",
    "    IDs.append({\n",
    "        \"identificatie\": ID_segments[0],\n",
    "        \"photo_dist\": ID_segments[1].strip(\".png\")\n",
    "    })\n",
    "df = pd.DataFrame(IDs)"
   ]
  },
  {
   "cell_type": "code",
   "execution_count": 4,
   "metadata": {},
   "outputs": [],
   "source": [
    "# save to csv\n",
    "IDs_csv_path = './data/list_IDs.csv'\n",
    "df.to_csv(IDs_csv_path, index=False, header=True)"
   ]
  },
  {
   "cell_type": "code",
   "execution_count": 19,
   "metadata": {},
   "outputs": [],
   "source": [
    "BAG_gdf = gpd.read_file('./data/baglod12citycentre.geojson') # geojson file\n",
    "BAG_gdf[\"identificatie\"] = BAG_gdf[\"identificatie\"].str[-15:].astype(str)\n",
    "\n",
    "IDs_pdf = pd.read_csv('./data/list_IDs.csv') # CSV file\n",
    "IDs_pdf[\"identificatie\"] = IDs_pdf[\"identificatie\"].astype(str)\n",
    "joined_gdf = BAG_gdf.merge(IDs_pdf, on=\"identificatie\")\n"
   ]
  },
  {
   "cell_type": "code",
   "execution_count": null,
   "metadata": {},
   "outputs": [],
   "source": [
    "# Save to geojson\n",
    "joined_gdf.to_file(\"./data/joined_gdf.geojson\", driver=\"GeoJSON\")"
   ]
  }
 ],
 "metadata": {
  "kernelspec": {
   "display_name": "Python 3",
   "language": "python",
   "name": "python3"
  },
  "language_info": {
   "codemirror_mode": {
    "name": "ipython",
    "version": 3
   },
   "file_extension": ".py",
   "mimetype": "text/x-python",
   "name": "python",
   "nbconvert_exporter": "python",
   "pygments_lexer": "ipython3",
   "version": "3.9.13"
  }
 },
 "nbformat": 4,
 "nbformat_minor": 2
}
